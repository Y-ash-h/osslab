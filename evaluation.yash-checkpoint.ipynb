{
 "cells": [
  {
   "cell_type": "code",
   "execution_count": 51,
   "id": "5a775f6b",
   "metadata": {},
   "outputs": [
    {
     "name": "stdout",
     "output_type": "stream",
     "text": [
      "{101: ('task 1', 'inc'), 102: ('task 2', 'comp'), 103: ('task 3', 'comp')}\n"
     ]
    }
   ],
   "source": [
    "tasks = {101 : (\"task 1\" , \"inc\") , 102 : (\"task 2\" , \"comp\") , 103 : (\"task 3\" , \"comp\")}\n",
    "print(tasks)"
   ]
  },
  {
   "cell_type": "code",
   "execution_count": 52,
   "id": "8e9bb93c",
   "metadata": {},
   "outputs": [
    {
     "name": "stdout",
     "output_type": "stream",
     "text": [
      "{101: ('task 1', 'inc'), 102: ('task 2', 'comp'), 103: ('task 3', 'comp'), 104: ('task 4', 'inc')}\n"
     ]
    }
   ],
   "source": [
    "tasks[104] = (\"task 4\" , \"inc\")\n",
    "print(tasks)"
   ]
  },
  {
   "cell_type": "code",
   "execution_count": 53,
   "id": "72a7336a",
   "metadata": {},
   "outputs": [
    {
     "name": "stdout",
     "output_type": "stream",
     "text": [
      "{101: ('task 1', 'inc'), 102: ('task 2', 'comp'), 103: ('task 3', 'inc'), 104: ('task 4', 'inc')}\n"
     ]
    }
   ],
   "source": [
    "tasks[103] = (\"task 3\" , \"inc\")\n",
    "print(tasks)"
   ]
  },
  {
   "cell_type": "code",
   "execution_count": 54,
   "id": "ced9920a",
   "metadata": {},
   "outputs": [
    {
     "name": "stdout",
     "output_type": "stream",
     "text": [
      "('task 3', 'inc')\n"
     ]
    }
   ],
   "source": [
    "print(tasks[103])"
   ]
  },
  {
   "cell_type": "code",
   "execution_count": 55,
   "id": "58780f84",
   "metadata": {},
   "outputs": [
    {
     "name": "stdout",
     "output_type": "stream",
     "text": [
      "{101: ('task 1', 'inc'), 102: ('task 2', 'comp'), 104: ('task 4', 'inc')}\n"
     ]
    }
   ],
   "source": [
    "del tasks[103]\n",
    "print(tasks)\n"
   ]
  },
  {
   "cell_type": "code",
   "execution_count": 56,
   "id": "270380ed",
   "metadata": {},
   "outputs": [
    {
     "name": "stdout",
     "output_type": "stream",
     "text": [
      "enter unique key : 106\n",
      "enter name : task 6\n",
      "enter status : comp\n",
      "{101: ('task 1', 'inc'), 102: ('task 2', 'comp'), 104: ('task 4', 'inc'), 106: ('task 6', 'comp')}\n"
     ]
    }
   ],
   "source": [
    "key = int(input(\"enter unique key : \"))\n",
    "name = input(\"enter name : \")\n",
    "status = input(\"enter status : \")\n",
    "tasks[key] = (name , status)\n",
    "print(tasks)"
   ]
  },
  {
   "cell_type": "code",
   "execution_count": 60,
   "id": "05fb4e3a",
   "metadata": {},
   "outputs": [
    {
     "name": "stdout",
     "output_type": "stream",
     "text": [
      "enter key to update : 102\n",
      "enter name : new name\n",
      "enter status : complete\n",
      "{101: ('task 1', 'inc'), 102: ('new name', 'complete'), 104: ('task 4', 'inc')}\n"
     ]
    }
   ],
   "source": [
    "key = int(input(\"enter key to update : \"))\n",
    "name = input(\"enter name : \")\n",
    "status = input(\"enter status : \")\n",
    "tasks[key] = (name , status)\n",
    "print(tasks)"
   ]
  },
  {
   "cell_type": "code",
   "execution_count": 63,
   "id": "2eae9f68",
   "metadata": {},
   "outputs": [
    {
     "name": "stdout",
     "output_type": "stream",
     "text": [
      "enter key to be searched : 104\n",
      "('task 4', 'inc')\n"
     ]
    }
   ],
   "source": [
    "key = int(input(\"enter key to be searched : \"))\n",
    "print(tasks[key])"
   ]
  },
  {
   "cell_type": "code",
   "execution_count": 41,
   "id": "b383806c",
   "metadata": {},
   "outputs": [
    {
     "ename": "SyntaxError",
     "evalue": "invalid syntax (3754899060.py, line 2)",
     "output_type": "error",
     "traceback": [
      "\u001b[1;36m  Cell \u001b[1;32mIn[41], line 2\u001b[1;36m\u001b[0m\n\u001b[1;33m    if 't' in tasks([100+i]:\u001b[0m\n\u001b[1;37m                           ^\u001b[0m\n\u001b[1;31mSyntaxError\u001b[0m\u001b[1;31m:\u001b[0m invalid syntax\n"
     ]
    }
   ],
   "source": [
    "for i in range(len(tasks)):\n",
    "    value = tasks([100+i])\n",
    "    if 't' in value[0]:\n",
    "        print(value)\n",
    "\n",
    "value = tasks[101]\n",
    "\n",
    "\n",
    "if 't' in value[0]:\n",
    "    print(value)"
   ]
  },
  {
   "cell_type": "code",
   "execution_count": 62,
   "id": "781ab8fe",
   "metadata": {},
   "outputs": [
    {
     "name": "stdout",
     "output_type": "stream",
     "text": [
      "enter key to be deleted : 101\n",
      "{102: ('new name', 'complete'), 104: ('task 4', 'inc')}\n"
     ]
    }
   ],
   "source": [
    "key = int(input(\"enter key to be deleted : \"))\n",
    "del tasks[key]\n",
    "print(tasks)"
   ]
  }
 ],
 "metadata": {
  "kernelspec": {
   "display_name": "Python 3 (ipykernel)",
   "language": "python",
   "name": "python3"
  },
  "language_info": {
   "codemirror_mode": {
    "name": "ipython",
    "version": 3
   },
   "file_extension": ".py",
   "mimetype": "text/x-python",
   "name": "python",
   "nbconvert_exporter": "python",
   "pygments_lexer": "ipython3",
   "version": "3.11.5"
  }
 },
 "nbformat": 4,
 "nbformat_minor": 5
}
